{
 "cells": [
  {
   "cell_type": "markdown",
   "metadata": {},
   "source": [
    "Gustavo Gobetti Bertocco\n",
    "2 - C"
   ]
  },
  {
   "cell_type": "markdown",
   "metadata": {},
   "source": [
    "___\n",
    "# MINIPROJETO 1"
   ]
  },
  {
   "cell_type": "markdown",
   "metadata": {},
   "source": [
    "Variável escolhida : Distribuição de salários em São Francisco"
   ]
  },
  {
   "cell_type": "markdown",
   "metadata": {},
   "source": [
    "___\n",
    "### Itens 1 a 3 - Resolução:"
   ]
  },
  {
   "cell_type": "code",
   "execution_count": 2,
   "metadata": {
    "collapsed": false
   },
   "outputs": [
    {
     "name": "stdout",
     "output_type": "stream",
     "text": [
      "Esperamos trabalhar no diretório\n",
      "C:\\Users\\Gustavo\\Documents\\INSPER\\2 semestre Engenharia\\Ciência dos Dados\\output\n"
     ]
    }
   ],
   "source": [
    "%matplotlib inline\n",
    "import pandas as pd\n",
    "import matplotlib.pyplot as plt\n",
    "import numpy as np\n",
    "import os\n",
    "from scipy import stats\n",
    "\n",
    "print('Esperamos trabalhar no diretório')\n",
    "print(os.getcwd())"
   ]
  },
  {
   "cell_type": "code",
   "execution_count": 3,
   "metadata": {
    "collapsed": false
   },
   "outputs": [
    {
     "name": "stderr",
     "output_type": "stream",
     "text": [
      "C:\\Users\\Gustavo\\Anaconda3\\lib\\site-packages\\IPython\\core\\interactiveshell.py:2902: DtypeWarning: Columns (3,4,5,6,12) have mixed types. Specify dtype option on import or set low_memory=False.\n",
      "  interactivity=interactivity, compiler=compiler, result=result)\n"
     ]
    }
   ],
   "source": [
    "dados = pd.read_csv('Salaries.csv')"
   ]
  },
  {
   "cell_type": "code",
   "execution_count": 4,
   "metadata": {
    "collapsed": true
   },
   "outputs": [],
   "source": [
    "salario = dados[\"TotalPay\"]"
   ]
  },
  {
   "cell_type": "code",
   "execution_count": 5,
   "metadata": {
    "collapsed": false
   },
   "outputs": [
    {
     "data": {
      "text/plain": [
       "count    148654.000000\n",
       "mean      74768.321972\n",
       "std       50517.005274\n",
       "min        -618.130000\n",
       "25%       36168.995000\n",
       "50%       71426.610000\n",
       "75%      105839.135000\n",
       "max      567595.430000\n",
       "Name: TotalPay, dtype: float64"
      ]
     },
     "execution_count": 5,
     "metadata": {},
     "output_type": "execute_result"
    }
   ],
   "source": [
    "salario.describe()"
   ]
  },
  {
   "cell_type": "code",
   "execution_count": 6,
   "metadata": {
    "collapsed": false
   },
   "outputs": [
    {
     "data": {
      "text/plain": [
       "(0, 1000]           3225\n",
       "(1000, 2000]        2320\n",
       "(2000, 3000]        2251\n",
       "(3000, 4000]        1997\n",
       "(4000, 5000]        1581\n",
       "(60000, 61000]      1579\n",
       "(72000, 73000]      1533\n",
       "(61000, 62000]      1527\n",
       "(66000, 67000]      1506\n",
       "(7000, 8000]        1472\n",
       "(73000, 74000]      1423\n",
       "(5000, 6000]        1418\n",
       "(58000, 59000]      1409\n",
       "(68000, 69000]      1407\n",
       "(71000, 72000]      1400\n",
       "(57000, 58000]      1398\n",
       "(56000, 57000]      1392\n",
       "(65000, 66000]      1390\n",
       "(75000, 76000]      1387\n",
       "(8000, 9000]        1384\n",
       "(62000, 63000]      1370\n",
       "(59000, 60000]      1357\n",
       "(67000, 68000]      1352\n",
       "(74000, 75000]      1345\n",
       "(69000, 70000]      1331\n",
       "(63000, 64000]      1326\n",
       "(70000, 71000]      1324\n",
       "(9000, 10000]       1322\n",
       "(78000, 79000]      1321\n",
       "(76000, 77000]      1318\n",
       "                    ... \n",
       "(250000, 251000]      14\n",
       "(242000, 243000]      13\n",
       "(244000, 245000]      13\n",
       "(240000, 241000]      13\n",
       "(238000, 239000]      12\n",
       "(246000, 247000]      12\n",
       "(252000, 253000]      12\n",
       "(241000, 242000]      12\n",
       "(243000, 244000]      11\n",
       "(257000, 258000]      10\n",
       "(253000, 254000]      10\n",
       "(259000, 260000]       9\n",
       "(247000, 248000]       9\n",
       "(245000, 246000]       9\n",
       "(249000, 250000]       8\n",
       "(258000, 259000]       8\n",
       "(255000, 256000]       8\n",
       "(267000, 268000]       8\n",
       "(264000, 265000]       7\n",
       "(260000, 261000]       7\n",
       "(251000, 252000]       7\n",
       "(248000, 249000]       6\n",
       "(262000, 263000]       6\n",
       "(254000, 255000]       5\n",
       "(256000, 257000]       4\n",
       "(265000, 266000]       4\n",
       "(266000, 267000]       4\n",
       "(263000, 264000]       3\n",
       "(268000, 269000]       3\n",
       "(261000, 262000]       1\n",
       "dtype: int64"
      ]
     },
     "execution_count": 6,
     "metadata": {},
     "output_type": "execute_result"
    }
   ],
   "source": [
    "faixa = np.arange(0, 270000,1000)\n",
    "variavelCateg = pd.cut(salario,faixa)\n",
    "variavelCateg.value_counts()"
   ]
  },
  {
   "cell_type": "code",
   "execution_count": 7,
   "metadata": {
    "collapsed": false
   },
   "outputs": [
    {
     "data": {
      "text/plain": [
       "<matplotlib.axes._subplots.AxesSubplot at 0x1d2fb1ece80>"
      ]
     },
     "execution_count": 7,
     "metadata": {},
     "output_type": "execute_result"
    },
    {
     "data": {
      "image/png": "[encoded data removed]",
      "text/plain": [
       "<matplotlib.figure.Figure at 0x1d2fb1ec390>"
      ]
     },
     "metadata": {},
     "output_type": "display_data"
    }
   ],
   "source": [
    "salario.plot.hist(bins = faixa,normed = 1)"
   ]
  },
  {
   "cell_type": "markdown",
   "metadata": {},
   "source": [
    "    Para analisarmos este conjunto de dados vamos fazer uma retomada do que deve ser levado em consideração para dizer qual é a melhor distribuição teórica. Pegando a média, mediana e moda, é possível observar se o modelo pode ser considerado simétrico, assimétrico positivo ou assimétrico negativo. Como a média vale: 74763.32, a mediana: 71426.61, e a moda está entre 0 e 1000, pode-se dizer que o melhor modelo que representa esta curva é a assimetria positiva. Pois, através dos dados, percebe-se que: média>mediana>moda. O que caracteriza uma assimetria positiva(com a cauda indo à direita).\n",
    "    No entanto, é importante lembrar que esse gráfico não representa fielmente uma curva assimétrica positiva, mas os modelos que utilizaremos serão para tal: Poisson e distribuição gama."
   ]
  },
  {
   "cell_type": "markdown",
   "metadata": {
    "collapsed": true
   },
   "source": [
    "___\n",
    "### Itens 4 a 6 - Resolução:"
   ]
  },
  {
   "cell_type": "markdown",
   "metadata": {},
   "source": [
    "Exemplo de resolução para Poisson - Assimetria Positiva."
   ]
  },
  {
   "cell_type": "code",
   "execution_count": 8,
   "metadata": {
    "collapsed": false
   },
   "outputs": [],
   "source": [
    "s = np.random.poisson(5, 1000)"
   ]
  },
  {
   "cell_type": "code",
   "execution_count": 9,
   "metadata": {
    "collapsed": false
   },
   "outputs": [
    {
     "data": {
      "image/png": "[encoded data removed]",
      "text/plain": [
       "<matplotlib.figure.Figure at 0x1d2f63cb4e0>"
      ]
     },
     "metadata": {},
     "output_type": "display_data"
    }
   ],
   "source": [
    "\n",
    "count, bins, ignored = plt.hist(s, 14, normed=True)\n",
    "plt.show()"
   ]
  },
  {
   "cell_type": "code",
   "execution_count": 10,
   "metadata": {
    "collapsed": false
   },
   "outputs": [
    {
     "data": {
      "image/png": "[encoded data removed]",
      "text/plain": [
       "<matplotlib.figure.Figure at 0x1d2f79ae5f8>"
      ]
     },
     "metadata": {},
     "output_type": "display_data"
    }
   ],
   "source": [
    "count, bins, ignored = plt.hist(salario, 1000, normed=True)\n",
    "plt.show()"
   ]
  },
  {
   "cell_type": "markdown",
   "metadata": {
    "collapsed": true
   },
   "source": [
    "Relembrando que este modelo é uma aproximação, vide o fato de não existir um modelo específico para o formato do histograma principal."
   ]
  },
  {
   "cell_type": "code",
   "execution_count": null,
   "metadata": {
    "collapsed": false
   },
   "outputs": [],
   "source": []
  },
  {
   "cell_type": "code",
   "execution_count": 11,
   "metadata": {
    "collapsed": false
   },
   "outputs": [
    {
     "data": {
      "text/plain": [
       "<matplotlib.legend.Legend at 0x1d2fa956d68>"
      ]
     },
     "execution_count": 11,
     "metadata": {},
     "output_type": "execute_result"
    },
    {
     "data": {
      "image/png": "[encoded data removed]",
      "text/plain": [
       "<matplotlib.figure.Figure at 0x1d2f62e5ba8>"
      ]
     },
     "metadata": {},
     "output_type": "display_data"
    }
   ],
   "source": [
    "mu_exp = salario.mean()\n",
    "\n",
    "# k para a gamma é escolhido entre 1 e 2 baseado na forma do histograma e no efeito que k tem na forma da gamma\n",
    "k_gamma = 1.65\n",
    "\n",
    "# Estimamos theta da distribuição gamma\n",
    "theta_gamma = salario.mean()/k_gamma\n",
    "\n",
    "\n",
    "x = np.linspace(0, 10, 1000)\n",
    "\n",
    "fig = plt.figure(figsize=(14,10))\n",
    "\n",
    "\n",
    "# histograma e densidade teórica\n",
    "salario.plot.hist(bins=range(0, 11), normed=True, label=\"Histograma dos dados\")\n",
    "exponencial = stats.expon.pdf(x, scale=mu_exp)\n",
    "gamma = stats.gamma.pdf(x, scale=theta_gamma, loc=0, a=k_gamma)\n",
    "\n",
    "\n",
    "plt.plot(x, gamma, '-', color='green', label=\"Gamma\") # Plota a gamma teórica\n",
    "plt.plot(x, exponencial, '-', color='red', label=\"Exponencial\") # Plota a exponencial teórica\n",
    "\n",
    "plt.legend()\n"
   ]
  },
  {
   "cell_type": "code",
   "execution_count": 12,
   "metadata": {
    "collapsed": false
   },
   "outputs": [
    {
     "data": {
      "text/plain": [
       "array([  9.09507013e-11,   1.91539246e-10,   3.24533790e-08, ...,\n",
       "         3.47481022e-06,   3.47481022e-06,   3.30129770e-06])"
      ]
     },
     "execution_count": 12,
     "metadata": {},
     "output_type": "execute_result"
    }
   ],
   "source": [
    "stats.gamma.fit(salario)\n"
   ]
  },
  {
   "cell_type": "code",
   "execution_count": null,
   "metadata": {
    "collapsed": false
   },
   "outputs": [],
   "source": [
    "# dados ordenados e quantis teóricos - QQplot\n",
    "\n",
    "# Calcula a frequência relativa acumulada com os dados vindos dos arquivos\n",
    "fra = [] # frequencia relativa acumulada\n",
    "for i in range(len(salario)):\n",
    "    acc = (i - 0.5) / len(salario)\n",
    "    if acc < 0:\n",
    "        acc = 0\n",
    "    fra.append(acc) # ver Magalhães e Lima (pag. 195)\n",
    "\n",
    "# Convertemos fra em uma Series do Pandas\n",
    "fra = pd.Series(data=fra)\n",
    "\n",
    "# Gera os valores dos quantis teóricos para as distribuições analisadas\n",
    "q_exp = stats.expon.ppf(fra, scale=mu_exp) # quantis teóricos da exponencial\n",
    "q_gamma = stats.gamma.ppf(fra, scale=theta_gamma, loc=0, a=k_gamma)\n",
    "\n",
    "\n",
    "fig = plt.figure(figsize=(12,8))\n",
    "\n",
    "plt.title(\"Q-Q plot: Dados x Exponencial x Gamma\")\n",
    "\n",
    "exp_plot, = plt.plot(salario, q_exp, 'o', color=\"red\", label=\"Exponencial\")\n",
    "gamma_plot, = plt.plot(salario, q_gamma, 'o', color=\"green\", label = \"Gamma\")\n",
    "\n",
    "plt.legend(handles=[exp_plot, gamma_plot])\n",
    "plt.plot((min(salario), max(salario)), (min(salario), max(salario)), '-')\n",
    "\n",
    "\n",
    "for i in range(len(salario)):\n",
    "    plt.plot((salario[i], salario[i]), (q_exp[i], salario[i]), '-', color='red', alpha=0.3  )\n",
    "    plt.plot((salario[i], salario[i]), (q_gamma[i], salario[i]), '-', color='green', alpha=0.3  )\n"
   ]
  },
  {
   "cell_type": "markdown",
   "metadata": {
    "collapsed": true
   },
   "source": [
    "Kelly não consegui fazer a parte a partir das curvas de comparação! Vou entregar assim mesmo, mas semana que vem eu vou refazê-lo, tive muito azar por ter ficado doente e não ter ido hoje ter tirado as dúvidas. Terça eu te pergunto disso e dos exercícios para a prova! "
   ]
  },
  {
   "cell_type": "markdown",
   "metadata": {
    "collapsed": true
   },
   "source": [
    "___\n",
    "### Itens 7 a 9 - Resolução:"
   ]
  },
  {
   "cell_type": "code",
   "execution_count": null,
   "metadata": {
    "collapsed": true
   },
   "outputs": [],
   "source": []
  },
  {
   "cell_type": "code",
   "execution_count": null,
   "metadata": {
    "collapsed": true
   },
   "outputs": [],
   "source": []
  },
  {
   "cell_type": "markdown",
   "metadata": {},
   "source": [
    "___\n",
    "### Itens 10 e 11 - Resolução:"
   ]
  },
  {
   "cell_type": "code",
   "execution_count": null,
   "metadata": {
    "collapsed": true
   },
   "outputs": [],
   "source": []
  },
  {
   "cell_type": "code",
   "execution_count": null,
   "metadata": {
    "collapsed": true
   },
   "outputs": [],
   "source": []
  }
 ],
 "metadata": {
  "anaconda-cloud": {},
  "kernelspec": {
   "display_name": "Python 3",
   "language": "python",
   "name": "python3"
  },
  "language_info": {
   "codemirror_mode": {
    "name": "ipython",
    "version": 3
   },
   "file_extension": ".py",
   "mimetype": "text/x-python",
   "name": "python",
   "nbconvert_exporter": "python",
   "pygments_lexer": "ipython3",
   "version": "3.5.1"
  }
 },
 "nbformat": 4,
 "nbformat_minor": 0
}
